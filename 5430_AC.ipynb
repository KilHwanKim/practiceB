{
  "nbformat": 4,
  "nbformat_minor": 0,
  "metadata": {
    "colab": {
      "name": "5430_AC.ipynb",
      "provenance": [],
      "authorship_tag": "ABX9TyP0niLPYgAIpiqRlYL8hl/c",
      "include_colab_link": true
    },
    "kernelspec": {
      "name": "python3",
      "display_name": "Python 3"
    },
    "language_info": {
      "name": "python"
    }
  },
  "cells": [
    {
      "cell_type": "markdown",
      "metadata": {
        "id": "view-in-github",
        "colab_type": "text"
      },
      "source": [
        "<a href=\"https://colab.research.google.com/github/KilHwanKim/practiceB/blob/main/5430_AC.ipynb\" target=\"_parent\"><img src=\"https://colab.research.google.com/assets/colab-badge.svg\" alt=\"Open In Colab\"/></a>"
      ]
    },
    {
      "cell_type": "code",
      "metadata": {
        "id": "1ygJYGZZr0M6"
      },
      "source": [
        "from collections import deque\n",
        "class AC:\n",
        "    def __init__(self,number_list):\n",
        "        self.d = deque()\n",
        "        for val in number_list:\n",
        "            self.d.append(int(val))\n",
        "        self.sign = True\n",
        "\n",
        "    def remove(self):\n",
        "        if self.sign:\n",
        "            self.d.popleft()\n",
        "        else:\n",
        "            self.d.pop()\n",
        "    \n",
        "    def change(self):\n",
        "        self.sign = not self.sign\n",
        "\n",
        "    def print_val(self,code):\n",
        "        answer = \"\"\n",
        "        for val in code:\n",
        "            if val == \"R\":\n",
        "                self.change()\n",
        "            else:\n",
        "                if len(self.d)==0:\n",
        "                    return \"error\"\n",
        "                else:\n",
        "                    self.remove()\n",
        "        \n",
        "        if self.sign:\n",
        "            return list(self.d)\n",
        "        else:\n",
        "            return list(self.d)[::-1]\n",
        "n = int(input())\n",
        "for _ in range(n):\n",
        "    code = input()\n",
        "    m = int(input())\n",
        "    number_list = input()\n",
        "    if number_list==\"[]\":\n",
        "        number_list =[]\n",
        "    else:    \n",
        "        number_list = list(map(int,number_list[1:-1].split(\",\")))\n",
        "    ac = AC(number_list)\n",
        "    print(str(ac.print_val(code)).replace(\" \",\"\"))\n",
        "    "
      ],
      "execution_count": 21,
      "outputs": []
    },
    {
      "cell_type": "code",
      "metadata": {
        "id": "kYDX9feWsB2U"
      },
      "source": [
        "n = int(input())\n",
        "for _ in range(n):\n",
        "    code = input()\n",
        "    m = int(input())\n",
        "    number_list = input()\n",
        "    if number_list==\"[]\":\n",
        "        number_list =[]\n",
        "    else:    \n",
        "        number_list = list(map(int,number_list[1:-1].split(\",\")))\n",
        "    ac = AC(number_list)\n",
        "    print(str(ac.print_val(code)).replace(\" \",\"\"))\n",
        "    "
      ],
      "execution_count": null,
      "outputs": []
    },
    {
      "cell_type": "code",
      "metadata": {
        "colab": {
          "base_uri": "https://localhost:8080/"
        },
        "id": "kjT7MmTMue_H",
        "outputId": "93029c84-1ca5-4d4c-93f3-c571e9c99bfa"
      },
      "source": [
        ""
      ],
      "execution_count": 8,
      "outputs": [
        {
          "output_type": "execute_result",
          "data": {
            "text/plain": [
              "0"
            ]
          },
          "metadata": {
            "tags": []
          },
          "execution_count": 8
        }
      ]
    },
    {
      "cell_type": "code",
      "metadata": {
        "colab": {
          "base_uri": "https://localhost:8080/",
          "height": 168
        },
        "id": "OCJSelk7vGRL",
        "outputId": "7bce2a49-f420-4822-ac09-48a61902937c"
      },
      "source": [
        "map(int,\"[]\"[1:-1].split(',')))"
      ],
      "execution_count": 40,
      "outputs": [
        {
          "output_type": "error",
          "ename": "ValueError",
          "evalue": "ignored",
          "traceback": [
            "\u001b[0;31m---------------------------------------------------------------------------\u001b[0m",
            "\u001b[0;31mValueError\u001b[0m                                Traceback (most recent call last)",
            "\u001b[0;32m<ipython-input-40-2885bc06b9b9>\u001b[0m in \u001b[0;36m<module>\u001b[0;34m()\u001b[0m\n\u001b[0;32m----> 1\u001b[0;31m \u001b[0mlist\u001b[0m\u001b[0;34m(\u001b[0m\u001b[0mmap\u001b[0m\u001b[0;34m(\u001b[0m\u001b[0mint\u001b[0m\u001b[0;34m,\u001b[0m\u001b[0;34m\"[]\"\u001b[0m\u001b[0;34m[\u001b[0m\u001b[0;36m1\u001b[0m\u001b[0;34m:\u001b[0m\u001b[0;34m-\u001b[0m\u001b[0;36m1\u001b[0m\u001b[0;34m]\u001b[0m\u001b[0;34m.\u001b[0m\u001b[0msplit\u001b[0m\u001b[0;34m(\u001b[0m\u001b[0;34m','\u001b[0m\u001b[0;34m)\u001b[0m\u001b[0;34m)\u001b[0m\u001b[0;34m)\u001b[0m\u001b[0;34m\u001b[0m\u001b[0;34m\u001b[0m\u001b[0m\n\u001b[0m",
            "\u001b[0;31mValueError\u001b[0m: invalid literal for int() with base 10: ''"
          ]
        }
      ]
    },
    {
      "cell_type": "code",
      "metadata": {
        "id": "hn7Qp5fQ0Et_"
      },
      "source": [
        ""
      ],
      "execution_count": null,
      "outputs": []
    }
  ]
}