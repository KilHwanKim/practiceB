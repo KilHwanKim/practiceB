{
  "nbformat": 4,
  "nbformat_minor": 0,
  "metadata": {
    "colab": {
      "name": "11866_카드2.ipynb",
      "provenance": [],
      "authorship_tag": "ABX9TyN3ksusiGO+RNWVIdmLJVxb",
      "include_colab_link": true
    },
    "kernelspec": {
      "name": "python3",
      "display_name": "Python 3"
    },
    "language_info": {
      "name": "python"
    }
  },
  "cells": [
    {
      "cell_type": "markdown",
      "metadata": {
        "id": "view-in-github",
        "colab_type": "text"
      },
      "source": [
        "<a href=\"https://colab.research.google.com/github/KilHwanKim/practiceB/blob/main/11866_%EC%B9%B4%EB%93%9C2.ipynb\" target=\"_parent\"><img src=\"https://colab.research.google.com/assets/colab-badge.svg\" alt=\"Open In Colab\"/></a>"
      ]
    },
    {
      "cell_type": "code",
      "metadata": {
        "colab": {
          "base_uri": "https://localhost:8080/"
        },
        "id": "D4NeSudss4wY",
        "outputId": "748e4464-3782-48cd-9d8d-0aff2dded187"
      },
      "source": [
        "from collections import deque\n",
        "n = int(input())\n",
        "d = deque()\n",
        "for i in range(n):\n",
        "    d.append(i+1)\n",
        "while True:\n",
        "    if len(d)==1:\n",
        "        print(d.popleft())\n",
        "        break\n",
        "    d.popleft()\n",
        "    d.append(d.popleft())\n",
        "print()\n",
        "## 리스트쓰면 시간 초가"
      ],
      "execution_count": 8,
      "outputs": [
        {
          "output_type": "stream",
          "text": [
            "6\n",
            "4\n",
            "\n"
          ],
          "name": "stdout"
        }
      ]
    },
    {
      "cell_type": "code",
      "metadata": {
        "id": "-6YEGfeEtoNh"
      },
      "source": [
        ""
      ],
      "execution_count": null,
      "outputs": []
    }
  ]
}