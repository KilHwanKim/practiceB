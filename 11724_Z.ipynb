{
  "nbformat": 4,
  "nbformat_minor": 0,
  "metadata": {
    "colab": {
      "name": "11724_Z.ipynb",
      "provenance": [],
      "authorship_tag": "ABX9TyPXfXFTwpbD62Hp5IsOLU1l",
      "include_colab_link": true
    },
    "kernelspec": {
      "name": "python3",
      "display_name": "Python 3"
    },
    "language_info": {
      "name": "python"
    }
  },
  "cells": [
    {
      "cell_type": "markdown",
      "metadata": {
        "id": "view-in-github",
        "colab_type": "text"
      },
      "source": [
        "<a href=\"https://colab.research.google.com/github/KilHwanKim/practiceB/blob/main/11724_Z.ipynb\" target=\"_parent\"><img src=\"https://colab.research.google.com/assets/colab-badge.svg\" alt=\"Open In Colab\"/></a>"
      ]
    },
    {
      "cell_type": "code",
      "metadata": {
        "colab": {
          "base_uri": "https://localhost:8080/"
        },
        "id": "EipoRN6Ao9iv",
        "outputId": "b8f74ca2-ea3c-4765-a053-7c129b89ad20"
      },
      "source": [
        "s = 0\n",
        "def Z(n,y,x):\n",
        "    global s\n",
        "    if n==1:\n",
        "        if x==0 and y==0:\n",
        "            return s\n",
        "        elif x==1 and y==0:\n",
        "            return s+1\n",
        "        elif x==0 and y==1:\n",
        "            return s+2\n",
        "        else:\n",
        "            return s+3\n",
        "    else:\n",
        "        mid = 2**(n-1)\n",
        "        if x< mid and y < mid: ## 1사분면\n",
        "            return Z(n-1,y,x)\n",
        "        elif x>=mid and  y < mid: ## 2사분면\n",
        "            s+=mid*mid\n",
        "            return Z(n-1,y,x-2**(n-1))\n",
        "        elif x< mid and  y>=mid:## 3사분면\n",
        "            s+=mid*mid*2\n",
        "            return Z(n-1,y-mid,x)\n",
        "        else :## 4사분면\n",
        "            s+=mid*mid*3\n",
        "            return Z(n-1,y-mid,x-mid)\n",
        "n,y,x = map(int,input().split())\n",
        "print(Z(n,y,x))"
      ],
      "execution_count": null,
      "outputs": [
        {
          "output_type": "execute_result",
          "data": {
            "text/plain": [
              "11"
            ]
          },
          "metadata": {
            "tags": []
          },
          "execution_count": 45
        }
      ]
    },
    {
      "cell_type": "code",
      "metadata": {
        "colab": {
          "base_uri": "https://localhost:8080/"
        },
        "id": "p_-tbj6oucTJ",
        "outputId": "2443041b-c763-4f2e-8187-e886baa85cd6"
      },
      "source": [
        "\n"
      ],
      "execution_count": null,
      "outputs": [
        {
          "output_type": "execute_result",
          "data": {
            "text/plain": [
              "39"
            ]
          },
          "metadata": {
            "tags": []
          },
          "execution_count": 42
        }
      ]
    },
    {
      "cell_type": "code",
      "metadata": {
        "colab": {
          "base_uri": "https://localhost:8080/"
        },
        "id": "jscHVL2DwHc1",
        "outputId": "783dbb31-7b98-409a-be86-e3f9c036a7b7"
      },
      "source": [
        "n = int(input())\n",
        "for i in range(n):\n",
        "    print(\"*\"*(i+1))"
      ],
      "execution_count": null,
      "outputs": [
        {
          "output_type": "stream",
          "text": [
            "5\n",
            "*\n",
            "**\n",
            "***\n",
            "****\n",
            "*****\n"
          ],
          "name": "stdout"
        }
      ]
    },
    {
      "cell_type": "code",
      "metadata": {
        "id": "bI1LgCcv2QRn"
      },
      "source": [
        ""
      ],
      "execution_count": null,
      "outputs": []
    }
  ]
}