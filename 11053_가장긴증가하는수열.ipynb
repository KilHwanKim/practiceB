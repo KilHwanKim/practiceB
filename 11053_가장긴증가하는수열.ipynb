{
  "nbformat": 4,
  "nbformat_minor": 0,
  "metadata": {
    "colab": {
      "name": "11053_가장긴증가하는수열.ipynb",
      "provenance": [],
      "authorship_tag": "ABX9TyOrRTCbJMgRQXMl/FoVGz+W",
      "include_colab_link": true
    },
    "kernelspec": {
      "name": "python3",
      "display_name": "Python 3"
    },
    "language_info": {
      "name": "python"
    }
  },
  "cells": [
    {
      "cell_type": "markdown",
      "metadata": {
        "id": "view-in-github",
        "colab_type": "text"
      },
      "source": [
        "<a href=\"https://colab.research.google.com/github/KilHwanKim/practiceB/blob/main/11053_%EA%B0%80%EC%9E%A5%EA%B8%B4%EC%A6%9D%EA%B0%80%ED%95%98%EB%8A%94%EC%88%98%EC%97%B4.ipynb\" target=\"_parent\"><img src=\"https://colab.research.google.com/assets/colab-badge.svg\" alt=\"Open In Colab\"/></a>"
      ]
    },
    {
      "cell_type": "code",
      "metadata": {
        "id": "FTQmzJu2U7vR"
      },
      "source": [
        "number_list = [10, 20, 10, 30, 20, 50]"
      ],
      "execution_count": 1,
      "outputs": []
    },
    {
      "cell_type": "code",
      "metadata": {
        "colab": {
          "base_uri": "https://localhost:8080/"
        },
        "id": "XvljT9xeW7aC",
        "outputId": "c33e755d-a347-400d-837d-ecb4eab80fab"
      },
      "source": [
        "n = int(input())\n",
        "number_list = list(map(int,input().split()))\n",
        "count_list = [1]*n\n",
        "for i in range(n):\n",
        "    ind = i\n",
        "    m = [0] \n",
        "    while i > 0 :\n",
        "        i-=1\n",
        "        if number_list[i]< number_list[ind]:\n",
        "            m.append(count_list[i])\n",
        "\n",
        "    count_list[ind]+=max(m)    \n",
        "print(max(count_list))\n",
        "\n",
        "#### 시간초가 날 줄 알았는데 통과했네"
      ],
      "execution_count": 11,
      "outputs": [
        {
          "output_type": "stream",
          "text": [
            "6\n",
            "10 20 10 30 20 50\n",
            "4\n"
          ],
          "name": "stdout"
        }
      ]
    },
    {
      "cell_type": "code",
      "metadata": {
        "id": "hTwYD2pkYXgC"
      },
      "source": [
        ""
      ],
      "execution_count": null,
      "outputs": []
    }
  ]
}