{
  "nbformat": 4,
  "nbformat_minor": 0,
  "metadata": {
    "colab": {
      "name": "15652_N과 M(4).ipynb",
      "provenance": [],
      "authorship_tag": "ABX9TyMNeJ+fDUqQWpafE50B/cp3",
      "include_colab_link": true
    },
    "kernelspec": {
      "name": "python3",
      "display_name": "Python 3"
    },
    "language_info": {
      "name": "python"
    }
  },
  "cells": [
    {
      "cell_type": "markdown",
      "metadata": {
        "id": "view-in-github",
        "colab_type": "text"
      },
      "source": [
        "<a href=\"https://colab.research.google.com/github/KilHwanKim/practiceB/blob/main/15652_N%EA%B3%BC_M(4).ipynb\" target=\"_parent\"><img src=\"https://colab.research.google.com/assets/colab-badge.svg\" alt=\"Open In Colab\"/></a>"
      ]
    },
    {
      "cell_type": "code",
      "metadata": {
        "colab": {
          "base_uri": "https://localhost:8080/"
        },
        "id": "KZf_Se_U7PDA",
        "outputId": "db6fd41d-0d47-4b45-bea2-d91acab44e20"
      },
      "source": [
        "def back(x):\n",
        "    global n,m,number_list\n",
        "    if x==m:\n",
        "        print(\" \".join([str(i) for i in number_list]))\n",
        "    else:\n",
        "        for i in range(1,n+1):\n",
        "            number_list[x]=i\n",
        "            if x==0 or number_list[x-1]<= number_list[x]:\n",
        "                back(x+1)\n",
        "n,m = map(int,input().split())\n",
        "number_list = [0]*m\n",
        "back(0)"
      ],
      "execution_count": 3,
      "outputs": [
        {
          "output_type": "stream",
          "text": [
            "3 3\n",
            "1 1 1\n",
            "1 1 2\n",
            "1 1 3\n",
            "1 2 2\n",
            "1 2 3\n",
            "1 3 3\n",
            "2 2 2\n",
            "2 2 3\n",
            "2 3 3\n",
            "3 3 3\n"
          ],
          "name": "stdout"
        }
      ]
    },
    {
      "cell_type": "code",
      "metadata": {
        "id": "vwEJy6Gc7a_M"
      },
      "source": [
        ""
      ],
      "execution_count": null,
      "outputs": []
    }
  ]
}