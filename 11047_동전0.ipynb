{
  "nbformat": 4,
  "nbformat_minor": 0,
  "metadata": {
    "colab": {
      "name": "11047_동전0.ipynb",
      "provenance": [],
      "authorship_tag": "ABX9TyOefBya1ewTh1hgFipO2jPp",
      "include_colab_link": true
    },
    "kernelspec": {
      "name": "python3",
      "display_name": "Python 3"
    },
    "language_info": {
      "name": "python"
    }
  },
  "cells": [
    {
      "cell_type": "markdown",
      "metadata": {
        "id": "view-in-github",
        "colab_type": "text"
      },
      "source": [
        "<a href=\"https://colab.research.google.com/github/KilHwanKim/practiceB/blob/main/11047_%EB%8F%99%EC%A0%840.ipynb\" target=\"_parent\"><img src=\"https://colab.research.google.com/assets/colab-badge.svg\" alt=\"Open In Colab\"/></a>"
      ]
    },
    {
      "cell_type": "code",
      "metadata": {
        "colab": {
          "base_uri": "https://localhost:8080/"
        },
        "id": "86pgTuMsqCHu",
        "outputId": "f7921384-fdcd-4b20-ccdb-3e55c5493bad"
      },
      "source": [
        "n, target = map(int,input().split())\n",
        "coin = [int(input()) for _ in range(n)]\n",
        "coin.sort(reverse=True)\n",
        "c=0\n",
        "for val in coin:\n",
        "    if val <= target:\n",
        "        c+=target//val\n",
        "        target -= (target//val)*val\n",
        "print(c)"
      ],
      "execution_count": 10,
      "outputs": [
        {
          "output_type": "stream",
          "text": [
            "10 4200\n",
            "1\n",
            "5\n",
            "10\n",
            "50\n",
            "100\n",
            "500\n",
            "1000\n",
            "5000\n",
            "10000\n",
            "50000\n",
            "6\n"
          ],
          "name": "stdout"
        }
      ]
    }
  ]
}