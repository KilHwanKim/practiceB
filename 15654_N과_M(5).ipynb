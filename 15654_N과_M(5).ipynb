{
  "nbformat": 4,
  "nbformat_minor": 0,
  "metadata": {
    "colab": {
      "name": "15654_N과 M(5).ipynb",
      "provenance": [],
      "authorship_tag": "ABX9TyMEtj1gVOoBDwjOdi20ibv2",
      "include_colab_link": true
    },
    "kernelspec": {
      "name": "python3",
      "display_name": "Python 3"
    },
    "language_info": {
      "name": "python"
    }
  },
  "cells": [
    {
      "cell_type": "markdown",
      "metadata": {
        "id": "view-in-github",
        "colab_type": "text"
      },
      "source": [
        "<a href=\"https://colab.research.google.com/github/KilHwanKim/practiceB/blob/main/15654_N%EA%B3%BC_M(5).ipynb\" target=\"_parent\"><img src=\"https://colab.research.google.com/assets/colab-badge.svg\" alt=\"Open In Colab\"/></a>"
      ]
    },
    {
      "cell_type": "code",
      "metadata": {
        "colab": {
          "base_uri": "https://localhost:8080/"
        },
        "id": "PbTCsS6t7xIo",
        "outputId": "c5b9c5bf-c69b-4b6c-ed04-8089d3084704"
      },
      "source": [
        "def back(x):\n",
        "    global n,m,number_list,ind_list\n",
        "    if x==m:\n",
        "        print(\" \".join([str(number_list[i]) for i in ind_list]))\n",
        "    else:\n",
        "        for i in range(n):\n",
        "            ind_list[x]=i\n",
        "            if i not in ind_list[:x]:\n",
        "                back(x+1)\n",
        "n,m = map(int,input().split())\n",
        "number_list = list(map(int,input().split()))\n",
        "number_list.sort()\n",
        "ind_list = [0]*m\n",
        "back(0)"
      ],
      "execution_count": 16,
      "outputs": [
        {
          "output_type": "stream",
          "text": [
            "4 2\n",
            "9 8 7 1\n",
            "1 7\n",
            "1 8\n",
            "1 9\n",
            "7 1\n",
            "7 8\n",
            "7 9\n",
            "8 1\n",
            "8 7\n",
            "8 9\n",
            "9 1\n",
            "9 7\n",
            "9 8\n"
          ],
          "name": "stdout"
        }
      ]
    },
    {
      "cell_type": "code",
      "metadata": {
        "id": "-YTAgDIh8WmU"
      },
      "source": [
        ""
      ],
      "execution_count": 11,
      "outputs": []
    }
  ]
}