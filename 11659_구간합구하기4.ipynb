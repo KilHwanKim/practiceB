{
  "nbformat": 4,
  "nbformat_minor": 0,
  "metadata": {
    "colab": {
      "name": "11659_구간합구하기4.ipynb",
      "provenance": [],
      "authorship_tag": "ABX9TyP+n1BHgYK1sFEwpJRG09dr",
      "include_colab_link": true
    },
    "kernelspec": {
      "name": "python3",
      "display_name": "Python 3"
    },
    "language_info": {
      "name": "python"
    }
  },
  "cells": [
    {
      "cell_type": "markdown",
      "metadata": {
        "id": "view-in-github",
        "colab_type": "text"
      },
      "source": [
        "<a href=\"https://colab.research.google.com/github/KilHwanKim/practiceB/blob/main/11659_%EA%B5%AC%EA%B0%84%ED%95%A9%EA%B5%AC%ED%95%98%EA%B8%B04.ipynb\" target=\"_parent\"><img src=\"https://colab.research.google.com/assets/colab-badge.svg\" alt=\"Open In Colab\"/></a>"
      ]
    },
    {
      "cell_type": "code",
      "metadata": {
        "id": "EJGi3NoL-xPT"
      },
      "source": [
        "import sys\n",
        "n,m  = map(int,input().split())\n",
        "number_list = list(map(int,sys.stdin.readline().split()))\n",
        "sum_list = [0]*n\n",
        "for i in range(n):\n",
        "    if i==0:\n",
        "        sum_list[i] = number_list[i]\n",
        "    else:\n",
        "        sum_list[i] =number_list[i]+ sum_list[i-1]\n",
        "\n",
        "for x in range(m):\n",
        "    s, e  = map(int,sys.stdin.readline().split())\n",
        "    if s ==1:\n",
        "        print(sum_list[e-1])\n",
        "    else:\n",
        "        print(sum_list[e-1]-sum_list[s-2])\n",
        "\n"
      ],
      "execution_count": null,
      "outputs": []
    },
    {
      "cell_type": "code",
      "metadata": {
        "colab": {
          "base_uri": "https://localhost:8080/"
        },
        "id": "bEkVWgxF_Pjz",
        "outputId": "639cb828-832d-43c5-d0e4-fa70ad0a07c8"
      },
      "source": [
        "sum_list"
      ],
      "execution_count": null,
      "outputs": [
        {
          "output_type": "execute_result",
          "data": {
            "text/plain": [
              "[5, 9, 12, 14, 15]"
            ]
          },
          "metadata": {
            "tags": []
          },
          "execution_count": 7
        }
      ]
    },
    {
      "cell_type": "code",
      "metadata": {
        "colab": {
          "base_uri": "https://localhost:8080/"
        },
        "id": "JRPDZIhIA6eH",
        "outputId": "62741d19-e9ef-48b0-fedb-853de6fcb4cd"
      },
      "source": [
        "for x in range(m):\n",
        "    s, e  = map(int,input().split())\n",
        "    if s ==1:\n",
        "        print(sum_list[e-1])\n",
        "    else:\n",
        "        print(sum_list[e-1]-sum_list[s-2])\n"
      ],
      "execution_count": null,
      "outputs": [
        {
          "output_type": "stream",
          "text": [
            "1 3\n",
            "12\n",
            "2 4\n",
            "9\n",
            "5 5\n",
            "1\n"
          ],
          "name": "stdout"
        }
      ]
    },
    {
      "cell_type": "code",
      "metadata": {
        "id": "87yWcS20B2MN"
      },
      "source": [
        ""
      ],
      "execution_count": null,
      "outputs": []
    }
  ]
}