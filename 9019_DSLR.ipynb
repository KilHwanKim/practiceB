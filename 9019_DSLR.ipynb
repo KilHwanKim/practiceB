{
  "nbformat": 4,
  "nbformat_minor": 0,
  "metadata": {
    "colab": {
      "name": "9019_DSLR.ipynb",
      "provenance": [],
      "authorship_tag": "ABX9TyOnZFX2tRn23JYBsaZ4aLaE",
      "include_colab_link": true
    },
    "kernelspec": {
      "name": "python3",
      "display_name": "Python 3"
    },
    "language_info": {
      "name": "python"
    }
  },
  "cells": [
    {
      "cell_type": "markdown",
      "metadata": {
        "id": "view-in-github",
        "colab_type": "text"
      },
      "source": [
        "<a href=\"https://colab.research.google.com/github/KilHwanKim/practiceB/blob/main/9019_DSLR.ipynb\" target=\"_parent\"><img src=\"https://colab.research.google.com/assets/colab-badge.svg\" alt=\"Open In Colab\"/></a>"
      ]
    },
    {
      "cell_type": "code",
      "metadata": {
        "colab": {
          "base_uri": "https://localhost:8080/",
          "height": 238
        },
        "id": "QsU093Ipi3mI",
        "outputId": "710ec1b2-f066-477c-abe7-d9f1cd89bb65"
      },
      "source": [
        "from collections import deque\n",
        "import sys\n",
        "\n",
        "ca = int(sys.stdin.readline())\n",
        "for _ in range(ca):\n",
        "    number, target = map(int, sys.stdin.readline().split())\n",
        "    q = deque()\n",
        "    visited = [0] * 10000\n",
        "    q.append([str(number).zfill(4), \"\"])\n",
        "    visited[number] = 1\n",
        "    while q:\n",
        "\n",
        "        temp = q.popleft()\n",
        "        n = temp[0]\n",
        "        code = temp[1]\n",
        "        if int(n) == target:\n",
        "            print(code)\n",
        "            break\n",
        "\n",
        "        D = str((int(n) * 2) % 10000).zfill(4)\n",
        "        if visited[int(D)] == 0:\n",
        "            q.append([D, code + \"D\"])\n",
        "            visited[int(D)] = 1\n",
        "\n",
        "        S = str((int(n) - 1) % 10000).zfill(4)\n",
        "        if visited[int(S)] == 0:\n",
        "            q.append([S, code + \"S\"])\n",
        "            visited[int(S)] = 1\n",
        "        n4 = str(n).zfill(4)\n",
        "\n",
        "        L = (str(n4)[1:] + str(n4)[0])\n",
        "        if visited[(int(L))] == 0:\n",
        "            q.append([L, code + \"L\"])\n",
        "            visited[int(L)] = 1\n",
        "\n",
        "        R = (str(n4)[-1] + str(n4)[0:-1])\n",
        "        if visited[(int(R))] == 0:\n",
        "            q.append([R, code + \"R\"])\n",
        "            visited[int(R)] = 1\n",
        "\n",
        "\n"
      ],
      "execution_count": 28,
      "outputs": [
        {
          "output_type": "error",
          "ename": "ValueError",
          "evalue": "ignored",
          "traceback": [
            "\u001b[0;31m---------------------------------------------------------------------------\u001b[0m",
            "\u001b[0;31mValueError\u001b[0m                                Traceback (most recent call last)",
            "\u001b[0;32m<ipython-input-28-c5911cacaf15>\u001b[0m in \u001b[0;36m<module>\u001b[0;34m()\u001b[0m\n\u001b[1;32m      2\u001b[0m \u001b[0;32mimport\u001b[0m \u001b[0msys\u001b[0m\u001b[0;34m\u001b[0m\u001b[0;34m\u001b[0m\u001b[0m\n\u001b[1;32m      3\u001b[0m \u001b[0;34m\u001b[0m\u001b[0m\n\u001b[0;32m----> 4\u001b[0;31m \u001b[0mca\u001b[0m \u001b[0;34m=\u001b[0m \u001b[0mint\u001b[0m\u001b[0;34m(\u001b[0m\u001b[0msys\u001b[0m\u001b[0;34m.\u001b[0m\u001b[0mstdin\u001b[0m\u001b[0;34m.\u001b[0m\u001b[0mreadline\u001b[0m\u001b[0;34m(\u001b[0m\u001b[0;34m)\u001b[0m\u001b[0;34m)\u001b[0m\u001b[0;34m\u001b[0m\u001b[0;34m\u001b[0m\u001b[0m\n\u001b[0m\u001b[1;32m      5\u001b[0m \u001b[0;32mfor\u001b[0m \u001b[0m_\u001b[0m \u001b[0;32min\u001b[0m \u001b[0mrange\u001b[0m\u001b[0;34m(\u001b[0m\u001b[0mca\u001b[0m\u001b[0;34m)\u001b[0m\u001b[0;34m:\u001b[0m\u001b[0;34m\u001b[0m\u001b[0;34m\u001b[0m\u001b[0m\n\u001b[1;32m      6\u001b[0m     \u001b[0mnumber\u001b[0m\u001b[0;34m,\u001b[0m \u001b[0mtarget\u001b[0m \u001b[0;34m=\u001b[0m \u001b[0mmap\u001b[0m\u001b[0;34m(\u001b[0m\u001b[0mint\u001b[0m\u001b[0;34m,\u001b[0m \u001b[0msys\u001b[0m\u001b[0;34m.\u001b[0m\u001b[0mstdin\u001b[0m\u001b[0;34m.\u001b[0m\u001b[0mreadline\u001b[0m\u001b[0;34m(\u001b[0m\u001b[0;34m)\u001b[0m\u001b[0;34m.\u001b[0m\u001b[0msplit\u001b[0m\u001b[0;34m(\u001b[0m\u001b[0;34m)\u001b[0m\u001b[0;34m)\u001b[0m\u001b[0;34m\u001b[0m\u001b[0;34m\u001b[0m\u001b[0m\n",
            "\u001b[0;31mValueError\u001b[0m: invalid literal for int() with base 10: ''"
          ]
        }
      ]
    },
    {
      "cell_type": "code",
      "metadata": {
        "colab": {
          "base_uri": "https://localhost:8080/"
        },
        "id": "TW-RqTsai-08",
        "outputId": "1ec91ef2-1b5f-4be9-a0b3-c75df77e6dae"
      },
      "source": [
        "1000"
      ],
      "execution_count": 21,
      "outputs": [
        {
          "output_type": "execute_result",
          "data": {
            "text/plain": [
              "1000"
            ]
          },
          "metadata": {
            "tags": []
          },
          "execution_count": 21
        }
      ]
    },
    {
      "cell_type": "code",
      "metadata": {
        "id": "YRrXa9LYmq-v",
        "colab": {
          "base_uri": "https://localhost:8080/",
          "height": 35
        },
        "outputId": "3af408cc-4781-4826-a66f-081423609c05"
      },
      "source": [
        "str(1).zfill(4)"
      ],
      "execution_count": 2,
      "outputs": [
        {
          "output_type": "execute_result",
          "data": {
            "application/vnd.google.colaboratory.intrinsic+json": {
              "type": "string"
            },
            "text/plain": [
              "'0001'"
            ]
          },
          "metadata": {
            "tags": []
          },
          "execution_count": 2
        }
      ]
    },
    {
      "cell_type": "code",
      "metadata": {
        "id": "zW9iIek2gJ69"
      },
      "source": [
        "R = (str(n)[1:]+str(n)[0]).zfill(4)\n",
        "    if visited[(int(R))]==0:\n",
        "        q.put([R,code+\"R\"])\n",
        "        visited[int(R)]=1  "
      ],
      "execution_count": null,
      "outputs": []
    }
  ]
}