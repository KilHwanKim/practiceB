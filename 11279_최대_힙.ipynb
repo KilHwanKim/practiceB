{
  "nbformat": 4,
  "nbformat_minor": 0,
  "metadata": {
    "colab": {
      "name": "11279_최대 힙.ipynb",
      "provenance": [],
      "authorship_tag": "ABX9TyM5mKdQCJwULYjtk5CkSo84",
      "include_colab_link": true
    },
    "kernelspec": {
      "name": "python3",
      "display_name": "Python 3"
    },
    "language_info": {
      "name": "python"
    }
  },
  "cells": [
    {
      "cell_type": "markdown",
      "metadata": {
        "id": "view-in-github",
        "colab_type": "text"
      },
      "source": [
        "<a href=\"https://colab.research.google.com/github/KilHwanKim/practiceB/blob/main/11279_%EC%B5%9C%EB%8C%80_%ED%9E%99.ipynb\" target=\"_parent\"><img src=\"https://colab.research.google.com/assets/colab-badge.svg\" alt=\"Open In Colab\"/></a>"
      ]
    },
    {
      "cell_type": "code",
      "metadata": {
        "colab": {
          "base_uri": "https://localhost:8080/"
        },
        "id": "MN3YVbVlmb3x",
        "outputId": "257ff351-c41e-4348-eb3d-7eaae25b6b2a"
      },
      "source": [
        "import sys\n",
        "class MaxHeap():\n",
        "\n",
        "    def __init__(self):\n",
        "        self.data = [None]\n",
        "    \n",
        "    def insert(self,number):\n",
        "        self.data.append(number)\n",
        "        i = len(self.data) -1\n",
        "        while i > 1:\n",
        "            if self.data[i] > self.data[i//2]:\n",
        "                self.data[i] , self.data[i//2] = self.data[i//2] , self.data[i]\n",
        "                i = i//2\n",
        "            else: break\n",
        "    \n",
        "    def remove(self):\n",
        "        if len(self.data) == 1:\n",
        "            return 0\n",
        "        else:\n",
        "            self.data[-1] ,self.data[1] = self.data[1], self.data[-1]\n",
        "            word = self.data.pop(-1)\n",
        "            self.maxHeapify(1)\n",
        "            return word\n",
        "    \n",
        "\n",
        "    def maxHeapify(self,i):\n",
        "        left = 2*i\n",
        "        right = i*2 +1\n",
        "        smallest  = i\n",
        "        if left < len(self.data) and self.data[i] < self.data[left]:\n",
        "            smallest = left\n",
        "        if right < len(self.data) and self.data[i] < self.data[right]:\n",
        "            if self.data[left] < self.data[right]:\n",
        "                smallest = right\n",
        "        if smallest != i:\n",
        "            self.data[i],self.data[smallest] = self.data[smallest],self.data[i]\n",
        "            self.maxHeapify(smallest)\n",
        "\n",
        "        return\n",
        "\n",
        "n = int(input())\n",
        "H = MaxHeap()\n",
        "for _ in range(n):\n",
        "    val =int(sys.stdin.readline())\n",
        "    if val ==0:\n",
        "        print(H.remove())\n",
        "    else :\n",
        "        H.insert(val)"
      ],
      "execution_count": 19,
      "outputs": [
        {
          "output_type": "stream",
          "text": [
            "13\n"
          ],
          "name": "stdout"
        }
      ]
    },
    {
      "cell_type": "markdown",
      "metadata": {
        "id": "rtwaaMV2tF9X"
      },
      "source": [
        ""
      ]
    },
    {
      "cell_type": "code",
      "metadata": {
        "colab": {
          "base_uri": "https://localhost:8080/"
        },
        "id": "sqvdQsBSrKiG",
        "outputId": "5591bf81-ef01-4297-9515-1db6a397a745"
      },
      "source": [
        "H = MaxHeap()\n",
        "H.insert(1)\n",
        "print(H.data) \n",
        "H.insert(2)\n",
        "print(H.data) \n",
        "H.insert(5)\n",
        "print(H.data) \n",
        "H.insert(6)\n",
        "print(H.data) \n",
        "H.insert(3)\n",
        "print(H.data)\n",
        "H.insert(200)\n",
        "print(H.data)\n",
        "H.remove()\n",
        "print(H.data)\n",
        "H.remove()\n",
        "print(H.data)\n",
        "H.remove()\n",
        "print(H.data)\n",
        "H.remove()\n",
        "print(H.data)\n",
        "\n"
      ],
      "execution_count": 18,
      "outputs": [
        {
          "output_type": "stream",
          "text": [
            "[None, 1]\n",
            "[None, 2, 1]\n",
            "[None, 5, 1, 2]\n",
            "[None, 6, 5, 2, 1]\n",
            "[None, 6, 5, 2, 1, 3]\n",
            "[None, 200, 5, 6, 1, 3, 2]\n",
            "[None, 6, 5, 2, 1, 3]\n",
            "[None, 5, 3, 2, 1]\n",
            "[None, 3, 1, 2]\n",
            "[None, 2, 1]\n"
          ],
          "name": "stdout"
        }
      ]
    },
    {
      "cell_type": "code",
      "metadata": {
        "id": "R8-jdccBreS8"
      },
      "source": [
        ""
      ],
      "execution_count": null,
      "outputs": []
    }
  ]
}