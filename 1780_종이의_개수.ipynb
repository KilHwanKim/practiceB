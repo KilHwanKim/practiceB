{
  "nbformat": 4,
  "nbformat_minor": 0,
  "metadata": {
    "colab": {
      "name": "1780_종이의 개수.ipynb",
      "provenance": [],
      "authorship_tag": "ABX9TyPx/U4sDjLesE0+cY5xrGwT",
      "include_colab_link": true
    },
    "kernelspec": {
      "name": "python3",
      "display_name": "Python 3"
    },
    "language_info": {
      "name": "python"
    }
  },
  "cells": [
    {
      "cell_type": "markdown",
      "metadata": {
        "id": "view-in-github",
        "colab_type": "text"
      },
      "source": [
        "<a href=\"https://colab.research.google.com/github/KilHwanKim/practiceB/blob/main/1780_%EC%A2%85%EC%9D%B4%EC%9D%98_%EA%B0%9C%EC%88%98.ipynb\" target=\"_parent\"><img src=\"https://colab.research.google.com/assets/colab-badge.svg\" alt=\"Open In Colab\"/></a>"
      ]
    },
    {
      "cell_type": "code",
      "metadata": {
        "id": "fcHXBvLRL2QD"
      },
      "source": [
        "A = \"\"\"0 0 0 1 1 1 -1 -1 -1\n",
        "0 0 0 1 1 1 -1 -1 -1\n",
        "0 0 0 1 1 1 -1 -1 -1\n",
        "1 1 1 0 0 0 0 0 0\n",
        "1 1 1 0 0 0 0 0 0\n",
        "1 1 1 0 0 0 0 0 0\n",
        "0 1 -1 0 1 -1 0 1 -1\n",
        "0 -1 1 0 1 -1 0 1 -1\n",
        "0 1 -1 1 0 -1 0 1 -1\"\"\"\n",
        "paper = [list(map(int,x.split())) for x in A.split(\"\\n\")]"
      ],
      "execution_count": null,
      "outputs": []
    },
    {
      "cell_type": "code",
      "metadata": {
        "id": "mLD3C5A6W7bd"
      },
      "source": [
        ""
      ],
      "execution_count": null,
      "outputs": []
    },
    {
      "cell_type": "code",
      "metadata": {
        "id": "LCMwOi-BOPeW"
      },
      "source": [
        "\n",
        "def check(x,y,n):\n",
        "    global c_list,paper\n",
        "    select = paper[y][x]\n",
        "    for xx in range(n):\n",
        "        for yy in range(n):\n",
        "            if paper[y+yy][x+xx] !=select:\n",
        "                m = n//3\n",
        "                for mi in range(3):\n",
        "                    for mj in range(3):\n",
        "                        check(x+m*mi,y+m*mj,m)\n",
        "                return\n",
        "                \n",
        "    c_list[select]+=1\n",
        "n = int(input())\n",
        "c_list =[0,0,0]\n",
        "paper=[]\n",
        "for _ in range(n):\n",
        "    paper.append(list(map(int,input().split())))  \n",
        "check(0,0,n)\n",
        "print(c_list[-1])\n",
        "print(c_list[0])\n",
        "print(c_list[1])"
      ],
      "execution_count": null,
      "outputs": []
    },
    {
      "cell_type": "code",
      "metadata": {
        "colab": {
          "base_uri": "https://localhost:8080/"
        },
        "id": "b9fIhB9rOQsq",
        "outputId": "cca2b173-59e9-44fd-ac66-015b887c1d7e"
      },
      "source": [
        "print(c_list)"
      ],
      "execution_count": null,
      "outputs": [
        {
          "output_type": "stream",
          "text": [
            "[12, 11, 10]\n"
          ],
          "name": "stdout"
        }
      ]
    },
    {
      "cell_type": "code",
      "metadata": {
        "id": "hY0rSdqbTgxW"
      },
      "source": [
        ""
      ],
      "execution_count": null,
      "outputs": []
    }
  ]
}