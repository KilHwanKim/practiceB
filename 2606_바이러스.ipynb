{
  "nbformat": 4,
  "nbformat_minor": 0,
  "metadata": {
    "colab": {
      "name": "2606_바이러스.ipynb",
      "provenance": [],
      "authorship_tag": "ABX9TyOHSXmoyqi/ln/EAn8I1X3i",
      "include_colab_link": true
    },
    "kernelspec": {
      "name": "python3",
      "display_name": "Python 3"
    },
    "language_info": {
      "name": "python"
    }
  },
  "cells": [
    {
      "cell_type": "markdown",
      "metadata": {
        "id": "view-in-github",
        "colab_type": "text"
      },
      "source": [
        "<a href=\"https://colab.research.google.com/github/KilHwanKim/practiceB/blob/main/2606_%EB%B0%94%EC%9D%B4%EB%9F%AC%EC%8A%A4.ipynb\" target=\"_parent\"><img src=\"https://colab.research.google.com/assets/colab-badge.svg\" alt=\"Open In Colab\"/></a>"
      ]
    },
    {
      "cell_type": "code",
      "metadata": {
        "id": "8Nc8YINDu3vL"
      },
      "source": [
        "A = \"\"\"7\n",
        "7\n",
        "1 2\n",
        "2 3\n",
        "1 5\n",
        "5 2\n",
        "5 6\n",
        "4 7\n",
        "7 3\"\"\""
      ],
      "execution_count": 63,
      "outputs": []
    },
    {
      "cell_type": "code",
      "metadata": {
        "id": "gjeLamoWvWe2"
      },
      "source": [
        "link_list = []\n",
        "l = int(A.split(\"\\n\")[0])\n",
        "n = int(A.split(\"\\n\")[1])\n",
        "for i in A.split(\"\\n\")[2::]:\n",
        "\n",
        "    link_list.append(list(map(int,i.split())))"
      ],
      "execution_count": 64,
      "outputs": []
    },
    {
      "cell_type": "code",
      "metadata": {
        "colab": {
          "base_uri": "https://localhost:8080/"
        },
        "id": "6B4Pg-BMvluI",
        "outputId": "dabe4f83-2671-445b-827c-050d2c4341f8"
      },
      "source": [
        "link_list = []\n",
        "l = int(input())\n",
        "n = int(input())\n",
        "for _ in range(n):\n",
        "    link_list.append(list(map(int,input().split())))\n",
        "visited = [0]*l\n",
        "Q = [1]\n",
        "visited[0] =1 \n",
        "while Q:\n",
        "    temp = Q.pop(0)\n",
        "    for ind,val in  enumerate(link_list):\n",
        "        if temp in val:\n",
        "            A = val.copy()\n",
        "            A.remove(temp)\n",
        "            \n",
        "            nword = A[-1]\n",
        "            if visited[nword-1]==0:\n",
        "                visited[nword-1]=1\n",
        "                Q.append(nword)\n",
        "           \n",
        "            \n",
        "            \n",
        "            \n",
        "print(visited.count(1)-1)"
      ],
      "execution_count": 67,
      "outputs": [
        {
          "output_type": "stream",
          "text": [
            "5\n",
            "3\n",
            "1 4\n",
            "4 5\n",
            "5 2\n",
            "[[1, 4], [4, 5], [5, 2]]\n",
            "3\n"
          ],
          "name": "stdout"
        }
      ]
    },
    {
      "cell_type": "code",
      "metadata": {
        "id": "gPYDowKwxtNl"
      },
      "source": [
        ""
      ],
      "execution_count": null,
      "outputs": []
    },
    {
      "cell_type": "code",
      "metadata": {
        "colab": {
          "base_uri": "https://localhost:8080/"
        },
        "id": "pibDmv7qvmR3",
        "outputId": "c149c6b8-2019-40b2-9d61-642d4099dd38"
      },
      "source": [
        "visited"
      ],
      "execution_count": 54,
      "outputs": [
        {
          "output_type": "execute_result",
          "data": {
            "text/plain": [
              "[1, 1, 0, 0, 1, 0, 0]"
            ]
          },
          "metadata": {
            "tags": []
          },
          "execution_count": 54
        }
      ]
    },
    {
      "cell_type": "code",
      "metadata": {
        "id": "YhSoPJXLxnjE"
      },
      "source": [
        "link_list = []\n",
        "l = int(input())\n",
        "n = int(input())\n",
        "for _ in range(n):\n",
        "    link_list.append(list(map(int,input().split())))"
      ],
      "execution_count": null,
      "outputs": []
    }
  ]
}