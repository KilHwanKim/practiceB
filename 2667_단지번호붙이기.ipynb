{
  "nbformat": 4,
  "nbformat_minor": 0,
  "metadata": {
    "colab": {
      "name": "2667_단지번호붙이기.ipynb",
      "provenance": [],
      "authorship_tag": "ABX9TyM0NB+9HJbxRO5ej+3XKvxq",
      "include_colab_link": true
    },
    "kernelspec": {
      "name": "python3",
      "display_name": "Python 3"
    },
    "language_info": {
      "name": "python"
    }
  },
  "cells": [
    {
      "cell_type": "markdown",
      "metadata": {
        "id": "view-in-github",
        "colab_type": "text"
      },
      "source": [
        "<a href=\"https://colab.research.google.com/github/KilHwanKim/practiceB/blob/main/2667_%EB%8B%A8%EC%A7%80%EB%B2%88%ED%98%B8%EB%B6%99%EC%9D%B4%EA%B8%B0.ipynb\" target=\"_parent\"><img src=\"https://colab.research.google.com/assets/colab-badge.svg\" alt=\"Open In Colab\"/></a>"
      ]
    },
    {
      "cell_type": "code",
      "metadata": {
        "colab": {
          "base_uri": "https://localhost:8080/"
        },
        "id": "1Db7R6P5k6Ax",
        "outputId": "7b9d3bc9-721b-4b08-e95b-3bc245928918"
      },
      "source": [
        "n = int(input())\n",
        "visited = [[0]*n for x in range(n)]\n",
        "c_list = []\n",
        "dx = [0,0,-1,1]\n",
        "dy = [1,-1,0,0]\n",
        "route =[]\n",
        "for _ in range(n):\n",
        "    route.append(list(map(int,list(input()))))\n",
        "for x in range(n):\n",
        "    for y in range(n):\n",
        "        if route[y][x]==1 and visited[y][x]==0:\n",
        "            stack = []\n",
        "            stack.append([x,y])\n",
        "            visited[y][x]=1\n",
        "            c_list.append(1)\n",
        "            while stack:\n",
        "                temp = stack.pop()\n",
        "                tx = temp[0]\n",
        "                ty = temp[1]\n",
        "\n",
        "                for ind in range(4):\n",
        "                    nx = tx+dx[ind]\n",
        "                    ny = ty+dy[ind]\n",
        "                    if nx<n and ny < n and nx>=0 and ny >=0 and route[ny][nx]==1 and visited[ny][nx]==0:\n",
        "                        stack.append([nx,ny])\n",
        "                        c_list[-1]+=1\n",
        "                        visited[ny][nx]=1\n",
        "c_list.sort()\n",
        "print(len(c_list))\n",
        "for x in c_list:\n",
        "    print(x)"
      ],
      "execution_count": null,
      "outputs": [
        {
          "output_type": "stream",
          "text": [
            "7\n",
            "0110100\n",
            "0110100\n",
            "0110100\n",
            "0110100\n",
            "0110100\n",
            "0110100\n",
            "0110100\n",
            "[7, 14]\n",
            "7\n",
            "14\n"
          ],
          "name": "stdout"
        }
      ]
    },
    {
      "cell_type": "code",
      "metadata": {
        "colab": {
          "base_uri": "https://localhost:8080/"
        },
        "id": "YmXequZHnqj-",
        "outputId": "d6deb73e-2f60-4da2-b115-3e7039dbc7fa"
      },
      "source": [
        "A = [1,3,4,5]\n",
        "A.sort()\n",
        "print(A)"
      ],
      "execution_count": null,
      "outputs": [
        {
          "output_type": "stream",
          "text": [
            "[1, 3, 4, 5]\n"
          ],
          "name": "stdout"
        }
      ]
    },
    {
      "cell_type": "code",
      "metadata": {
        "id": "y8NdXjynlJqu"
      },
      "source": [
        "for x in range(n):\n",
        "    for y in range(n):\n",
        "        if route[y][x]==1 and visited[y][x]==0:\n",
        "            stack = []\n",
        "            stack.append([x,y])\n",
        "            visited[y][x]=1\n",
        "            c_list.append(1)\n",
        "            while stack:\n",
        "                temp = stack.pop()\n",
        "                tx = temp[0]\n",
        "                ty = temp[1]\n",
        "\n",
        "                for ind range(4):\n",
        "                    nx = tx+dx[ind]\n",
        "                    ny = ty+dy[ind]\n",
        "                    if nx<n and ny < n and nx>=0 and ny >=0 and route[ny][nx]==1 and visited[ny][nx]==0:\n",
        "                        stack.append(nx,ny)\n",
        "                        c_list[-1]+=1\n",
        "                        visited[y][x]=1\n",
        "                \n",
        "        "
      ],
      "execution_count": null,
      "outputs": []
    }
  ]
}