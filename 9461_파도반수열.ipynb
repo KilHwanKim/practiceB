{
  "nbformat": 4,
  "nbformat_minor": 0,
  "metadata": {
    "colab": {
      "name": "9461_파도반수열.ipynb",
      "provenance": [],
      "authorship_tag": "ABX9TyM6jwlcJ4J8ZpLAJZlSAqw+",
      "include_colab_link": true
    },
    "kernelspec": {
      "name": "python3",
      "display_name": "Python 3"
    },
    "language_info": {
      "name": "python"
    }
  },
  "cells": [
    {
      "cell_type": "markdown",
      "metadata": {
        "id": "view-in-github",
        "colab_type": "text"
      },
      "source": [
        "<a href=\"https://colab.research.google.com/github/KilHwanKim/practiceB/blob/main/9461_%ED%8C%8C%EB%8F%84%EB%B0%98%EC%88%98%EC%97%B4.ipynb\" target=\"_parent\"><img src=\"https://colab.research.google.com/assets/colab-badge.svg\" alt=\"Open In Colab\"/></a>"
      ]
    },
    {
      "cell_type": "code",
      "metadata": {
        "colab": {
          "base_uri": "https://localhost:8080/"
        },
        "id": "qxmEb66OwB2X",
        "outputId": "a7e9cfbc-eb7b-47e9-d6e5-53f852d8a98d"
      },
      "source": [
        "n_list = [1, 1, 1, 2, 2]\n",
        "for i in range(5,100+1):\n",
        "    n_list.append(n_list[i-5]+n_list[i-1])\n",
        "n = int(input())\n",
        "for _ in range(n):\n",
        "    print(n_list[int(input())-1])"
      ],
      "execution_count": 9,
      "outputs": [
        {
          "output_type": "stream",
          "text": [
            "2\n",
            "6\n",
            "3\n",
            "12\n",
            "16\n"
          ],
          "name": "stdout"
        }
      ]
    },
    {
      "cell_type": "code",
      "metadata": {
        "colab": {
          "base_uri": "https://localhost:8080/"
        },
        "id": "EXr-iOB3wUBj",
        "outputId": "218d05dd-5673-40ae-e013-ff0496780fed"
      },
      "source": [
        ""
      ],
      "execution_count": 7,
      "outputs": [
        {
          "output_type": "execute_result",
          "data": {
            "text/plain": [
              "3"
            ]
          },
          "metadata": {
            "tags": []
          },
          "execution_count": 7
        }
      ]
    },
    {
      "cell_type": "code",
      "metadata": {
        "id": "oCOzdIUuwaf0"
      },
      "source": [
        ""
      ],
      "execution_count": null,
      "outputs": []
    }
  ]
}