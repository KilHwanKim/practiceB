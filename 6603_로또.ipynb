{
  "nbformat": 4,
  "nbformat_minor": 0,
  "metadata": {
    "colab": {
      "name": "6603_로또.ipynb",
      "provenance": [],
      "authorship_tag": "ABX9TyNAOGmIq5MVkXTde8PcSi+U",
      "include_colab_link": true
    },
    "kernelspec": {
      "name": "python3",
      "display_name": "Python 3"
    },
    "language_info": {
      "name": "python"
    }
  },
  "cells": [
    {
      "cell_type": "markdown",
      "metadata": {
        "id": "view-in-github",
        "colab_type": "text"
      },
      "source": [
        "<a href=\"https://colab.research.google.com/github/KilHwanKim/practiceB/blob/main/6603_%EB%A1%9C%EB%98%90.ipynb\" target=\"_parent\"><img src=\"https://colab.research.google.com/assets/colab-badge.svg\" alt=\"Open In Colab\"/></a>"
      ]
    },
    {
      "cell_type": "code",
      "metadata": {
        "colab": {
          "base_uri": "https://localhost:8080/"
        },
        "id": "ObjyHzuWVRsx",
        "outputId": "2ee7e345-5a8d-4d3b-ef49-6fbfb967f4bf"
      },
      "source": [
        "def back(x):\n",
        "    global c,n,number\n",
        "    if x==6:\n",
        "        print(\" \".join([str(number[i]) for i in c]))\n",
        "    else:\n",
        "        for i in range(n):\n",
        "            c[x]=i\n",
        "            if x==0 or c[x-1] < c[x]:\n",
        "                \n",
        "                back(x+1)\n",
        "while True:\n",
        "    c= [0]*6\n",
        "    in_list = list(map(int,input().split()))\n",
        "    if in_list ==[0]:\n",
        "        break\n",
        "    \n",
        "    n = in_list[0]\n",
        "    number = in_list[1::]\n",
        "    back(0)\n",
        "    print()\n",
        "    \n"
      ],
      "execution_count": 1,
      "outputs": [
        {
          "output_type": "stream",
          "text": [
            "7 1 2 3 4 5 6 7\n",
            "1 2 3 4 5 6\n",
            "1 2 3 4 5 7\n",
            "1 2 3 4 6 7\n",
            "1 2 3 5 6 7\n",
            "1 2 4 5 6 7\n",
            "1 3 4 5 6 7\n",
            "2 3 4 5 6 7\n",
            "\n",
            "8 1 2 3 5 8 13 21 34\n",
            "1 2 3 5 8 13\n",
            "1 2 3 5 8 21\n",
            "1 2 3 5 8 34\n",
            "1 2 3 5 13 21\n",
            "1 2 3 5 13 34\n",
            "1 2 3 5 21 34\n",
            "1 2 3 8 13 21\n",
            "1 2 3 8 13 34\n",
            "1 2 3 8 21 34\n",
            "1 2 3 13 21 34\n",
            "1 2 5 8 13 21\n",
            "1 2 5 8 13 34\n",
            "1 2 5 8 21 34\n",
            "1 2 5 13 21 34\n",
            "1 2 8 13 21 34\n",
            "1 3 5 8 13 21\n",
            "1 3 5 8 13 34\n",
            "1 3 5 8 21 34\n",
            "1 3 5 13 21 34\n",
            "1 3 8 13 21 34\n",
            "1 5 8 13 21 34\n",
            "2 3 5 8 13 21\n",
            "2 3 5 8 13 34\n",
            "2 3 5 8 21 34\n",
            "2 3 5 13 21 34\n",
            "2 3 8 13 21 34\n",
            "2 5 8 13 21 34\n",
            "3 5 8 13 21 34\n",
            "\n",
            "0\n"
          ],
          "name": "stdout"
        }
      ]
    },
    {
      "cell_type": "code",
      "metadata": {
        "id": "TQ1P8TddWoQZ"
      },
      "source": [
        ""
      ],
      "execution_count": null,
      "outputs": []
    }
  ]
}