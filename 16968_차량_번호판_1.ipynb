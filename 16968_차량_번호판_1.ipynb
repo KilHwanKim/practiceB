{
  "nbformat": 4,
  "nbformat_minor": 0,
  "metadata": {
    "colab": {
      "name": "16968_차량 번호판 1.ipynb",
      "provenance": [],
      "authorship_tag": "ABX9TyMOz3H0gkc1TQJceLnEJUeB",
      "include_colab_link": true
    },
    "kernelspec": {
      "name": "python3",
      "display_name": "Python 3"
    },
    "language_info": {
      "name": "python"
    }
  },
  "cells": [
    {
      "cell_type": "markdown",
      "metadata": {
        "id": "view-in-github",
        "colab_type": "text"
      },
      "source": [
        "<a href=\"https://colab.research.google.com/github/KilHwanKim/practiceB/blob/main/16968_%EC%B0%A8%EB%9F%89_%EB%B2%88%ED%98%B8%ED%8C%90_1.ipynb\" target=\"_parent\"><img src=\"https://colab.research.google.com/assets/colab-badge.svg\" alt=\"Open In Colab\"/></a>"
      ]
    },
    {
      "cell_type": "code",
      "metadata": {
        "colab": {
          "base_uri": "https://localhost:8080/"
        },
        "id": "qHWckVHHBlwQ",
        "outputId": "b71fb0cc-c88c-4371-ae92-f11829615753"
      },
      "source": [
        "code = input()\n",
        "abc = \"abcdefghijklmnopqrstuvwxyz\"\n",
        "n = [0]*len(code)\n",
        "c = 0\n",
        "def back(x,code):\n",
        "    global c,abc\n",
        "    if x==len(code):\n",
        "        c+=1\n",
        "    else:\n",
        "        if code[x]==\"d\":\n",
        "            for i in range(10):\n",
        "                n[x]=i\n",
        "                if x==0 or n[x]!=n[x-1]:\n",
        "                    back(x+1,code)\n",
        "        else:\n",
        "            for a in list(abc):\n",
        "                n[x]=a\n",
        "                if x==0 or n[x]!=n[x-1]:\n",
        "                    back(x+1,code)\n",
        "\n",
        "back(0,code)\n",
        "\n",
        "print(c)"
      ],
      "execution_count": 122,
      "outputs": [
        {
          "output_type": "stream",
          "text": [
            "ddcd\n",
            "23400\n"
          ],
          "name": "stdout"
        }
      ]
    },
    {
      "cell_type": "code",
      "metadata": {
        "id": "j8T6gM64C9Xi"
      },
      "source": [
        ""
      ],
      "execution_count": null,
      "outputs": []
    },
    {
      "cell_type": "code",
      "metadata": {
        "colab": {
          "base_uri": "https://localhost:8080/"
        },
        "id": "K6xLl9JiC-8n",
        "outputId": "de1036e3-a154-4bf0-a9c4-c8eeeb55171d"
      },
      "source": [
        "len(\"abcdefghijklmnopqrstuvwxyz\")"
      ],
      "execution_count": null,
      "outputs": [
        {
          "output_type": "execute_result",
          "data": {
            "text/plain": [
              "26"
            ]
          },
          "metadata": {
            "tags": []
          },
          "execution_count": 100
        }
      ]
    },
    {
      "cell_type": "code",
      "metadata": {
        "id": "d7rblauNLZkb"
      },
      "source": [
        ""
      ],
      "execution_count": null,
      "outputs": []
    }
  ]
}