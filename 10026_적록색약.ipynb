{
  "nbformat": 4,
  "nbformat_minor": 0,
  "metadata": {
    "colab": {
      "name": "10026_적록색약.ipynb",
      "provenance": [],
      "authorship_tag": "ABX9TyP4JwmJ1y/gYE3WSNR+V2fN",
      "include_colab_link": true
    },
    "kernelspec": {
      "name": "python3",
      "display_name": "Python 3"
    },
    "language_info": {
      "name": "python"
    }
  },
  "cells": [
    {
      "cell_type": "markdown",
      "metadata": {
        "id": "view-in-github",
        "colab_type": "text"
      },
      "source": [
        "<a href=\"https://colab.research.google.com/github/KilHwanKim/practiceB/blob/main/10026_%EC%A0%81%EB%A1%9D%EC%83%89%EC%95%BD.ipynb\" target=\"_parent\"><img src=\"https://colab.research.google.com/assets/colab-badge.svg\" alt=\"Open In Colab\"/></a>"
      ]
    },
    {
      "cell_type": "code",
      "metadata": {
        "colab": {
          "base_uri": "https://localhost:8080/"
        },
        "id": "CXT59eMvv22L",
        "outputId": "867f5ea6-de3e-46cb-df7d-8cf70b56552d"
      },
      "source": [
        "n = int(input())\n",
        "RGB = [list(input()) for _ in range(n)]\n",
        "visited = [[0]*n for _ in range(n)]\n",
        "nomal_c=0\n",
        "dx = [1,-1,0,0]\n",
        "dy = [0,0,1,-1]\n",
        "for x in range(n):\n",
        "    for y in range(n):\n",
        "        if visited[y][x]==0:\n",
        "            stack= []\n",
        "            stack.append([x,y])\n",
        "            visited[y][x]=1\n",
        "            color = RGB[y][x]\n",
        "            nomal_c+=1\n",
        "            while stack:\n",
        "                temp = stack.pop()\n",
        "                tx = temp[0]\n",
        "                ty = temp[1]\n",
        "                for ind in range(4):\n",
        "                    nx = tx+dx[ind]\n",
        "                    ny = ty+dy[ind]\n",
        "                    if nx<n and ny <n and nx>=0 and ny>=0 and visited[ny][nx] ==0 and  RGB[ny][nx] ==color:\n",
        "                        stack.append([nx,ny])\n",
        "                        visited[ny][nx]=1 \n",
        "visited = [[0]*n for _ in range(n)]\n",
        "cc=0\n",
        "for x in range(n):\n",
        "    for y in range(n):\n",
        "        if visited[y][x]==0:\n",
        "            stack= []\n",
        "            stack.append([x,y])\n",
        "            visited[y][x]=1\n",
        "            color = RGB[y][x]\n",
        "            if color ==\"G\":\n",
        "                color=\"R\"\n",
        "            cc+=1\n",
        "            while stack:\n",
        "                temp = stack.pop()\n",
        "                tx = temp[0]\n",
        "                ty = temp[1]\n",
        "                for ind in range(4):\n",
        "                    nx = tx+dx[ind]\n",
        "                    ny = ty+dy[ind]\n",
        "                    if nx<n and ny <n and nx>=0 and ny>=0 and visited[ny][nx] ==0 and  (RGB[ny][nx]==\"G\" and \"R\" or RGB[ny][nx] ) ==color:\n",
        "                        stack.append([nx,ny])\n",
        "                        visited[ny][nx]=1\n",
        "print(nomal_c,cc)"
      ],
      "execution_count": 18,
      "outputs": [
        {
          "output_type": "stream",
          "text": [
            "5\n",
            "RRRBB\n",
            "GGBBB\n",
            "BBBRR\n",
            "BBRRR\n",
            "RRRRR\n",
            "4 3\n"
          ],
          "name": "stdout"
        }
      ]
    },
    {
      "cell_type": "code",
      "metadata": {
        "id": "V2YqPdo935GV"
      },
      "source": [
        ""
      ],
      "execution_count": 18,
      "outputs": []
    },
    {
      "cell_type": "code",
      "metadata": {
        "id": "0k87MHas5EPy"
      },
      "source": [
        ""
      ],
      "execution_count": 18,
      "outputs": []
    },
    {
      "cell_type": "code",
      "metadata": {
        "id": "JhLcgW9s6v_o"
      },
      "source": [
        ""
      ],
      "execution_count": 18,
      "outputs": []
    },
    {
      "cell_type": "code",
      "metadata": {
        "id": "cvoqg8B36wqD"
      },
      "source": [
        ""
      ],
      "execution_count": 18,
      "outputs": []
    }
  ]
}