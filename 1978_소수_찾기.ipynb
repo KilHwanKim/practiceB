{
  "nbformat": 4,
  "nbformat_minor": 0,
  "metadata": {
    "colab": {
      "name": "1978_소수 찾기.ipynb",
      "provenance": [],
      "authorship_tag": "ABX9TyMKi2t6JrGyggm7ImST1Dve",
      "include_colab_link": true
    },
    "kernelspec": {
      "name": "python3",
      "display_name": "Python 3"
    },
    "language_info": {
      "name": "python"
    }
  },
  "cells": [
    {
      "cell_type": "markdown",
      "metadata": {
        "id": "view-in-github",
        "colab_type": "text"
      },
      "source": [
        "<a href=\"https://colab.research.google.com/github/KilHwanKim/practiceB/blob/main/1978_%EC%86%8C%EC%88%98_%EC%B0%BE%EA%B8%B0.ipynb\" target=\"_parent\"><img src=\"https://colab.research.google.com/assets/colab-badge.svg\" alt=\"Open In Colab\"/></a>"
      ]
    },
    {
      "cell_type": "code",
      "metadata": {
        "colab": {
          "base_uri": "https://localhost:8080/"
        },
        "id": "yuJkcZCk0ry0",
        "outputId": "2d88a1a5-f605-4e5e-b3f8-409e7a8d9100"
      },
      "source": [
        "n = int(input())\n",
        "answer=0\n",
        "def isPrime(number):\n",
        "    if number==2:\n",
        "        return 1\n",
        "    if number ==1:\n",
        "        return 0\n",
        "    for i in range(2,number):\n",
        "        if number%i==0:\n",
        "            return 0\n",
        "    return 1\n",
        "number_list = list(map(int,input().split())) \n",
        "for num in number_list:\n",
        "    answer+=isPrime(num)\n",
        "print(answer)"
      ],
      "execution_count": null,
      "outputs": [
        {
          "output_type": "stream",
          "text": [
            "4\n",
            "1 3 5 7 \n",
            "3\n"
          ],
          "name": "stdout"
        }
      ]
    },
    {
      "cell_type": "code",
      "metadata": {
        "colab": {
          "base_uri": "https://localhost:8080/"
        },
        "id": "302PORdj1Kfg",
        "outputId": "e9ac53bd-df32-4ce6-ebd4-5d65c80fb826"
      },
      "source": [
        "isPrime(2)"
      ],
      "execution_count": null,
      "outputs": [
        {
          "output_type": "execute_result",
          "data": {
            "text/plain": [
              "1"
            ]
          },
          "metadata": {
            "tags": []
          },
          "execution_count": 5
        }
      ]
    },
    {
      "cell_type": "code",
      "metadata": {
        "id": "rRWKaGqz1OBU"
      },
      "source": [
        ""
      ],
      "execution_count": null,
      "outputs": []
    }
  ]
}