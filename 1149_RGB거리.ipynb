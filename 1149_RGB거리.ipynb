{
  "nbformat": 4,
  "nbformat_minor": 0,
  "metadata": {
    "colab": {
      "name": "1149_RGB거리.ipynb",
      "provenance": [],
      "authorship_tag": "ABX9TyM7K/KDzStIS55c4XkS13Z8",
      "include_colab_link": true
    },
    "kernelspec": {
      "name": "python3",
      "display_name": "Python 3"
    },
    "language_info": {
      "name": "python"
    }
  },
  "cells": [
    {
      "cell_type": "markdown",
      "metadata": {
        "id": "view-in-github",
        "colab_type": "text"
      },
      "source": [
        "<a href=\"https://colab.research.google.com/github/KilHwanKim/practiceB/blob/main/1149_RGB%EA%B1%B0%EB%A6%AC.ipynb\" target=\"_parent\"><img src=\"https://colab.research.google.com/assets/colab-badge.svg\" alt=\"Open In Colab\"/></a>"
      ]
    },
    {
      "cell_type": "code",
      "metadata": {
        "colab": {
          "base_uri": "https://localhost:8080/"
        },
        "id": "PO3JmcUPcptK",
        "outputId": "ae9cd4f9-209b-4d6c-99c3-047426f4ac17"
      },
      "source": [
        "from collections import deque\n",
        "n = int(input())\n",
        "RGB = []\n",
        "for _ in range(n):\n",
        "    RGB.append(list(map(int,input().split())))\n",
        "for ind in range(1,n):\n",
        "    RGB[ind][0]  = min([RGB[ind-1][1],RGB[ind-1][2]])+RGB[ind][0] \n",
        "    RGB[ind][1] = min([RGB[ind-1][0],RGB[ind-1][2]])+RGB[ind][1] \n",
        "    RGB[ind][2] = min([RGB[ind-1][0],RGB[ind-1][1]])+RGB[ind][2]\n",
        " "
      ],
      "execution_count": 2,
      "outputs": [
        {
          "output_type": "stream",
          "text": [
            "3\n",
            "26 40 83\n",
            "49 60 57\n",
            "13 89 99\n"
          ],
          "name": "stdout"
        }
      ]
    },
    {
      "cell_type": "code",
      "metadata": {
        "colab": {
          "base_uri": "https://localhost:8080/"
        },
        "id": "vjGjRb8mdZ_o",
        "outputId": "d6f9d3dc-fce5-4165-ce9c-a32102689a3e"
      },
      "source": [
        "print(min(RGB[-1]))"
      ],
      "execution_count": 3,
      "outputs": [
        {
          "output_type": "stream",
          "text": [
            "96\n"
          ],
          "name": "stdout"
        }
      ]
    },
    {
      "cell_type": "code",
      "metadata": {
        "id": "bjEEj07MgqEo"
      },
      "source": [
        ""
      ],
      "execution_count": null,
      "outputs": []
    }
  ]
}