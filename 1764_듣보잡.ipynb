{
  "nbformat": 4,
  "nbformat_minor": 0,
  "metadata": {
    "colab": {
      "name": "1764_듣보잡.ipynb",
      "provenance": [],
      "authorship_tag": "ABX9TyNMrUusu1yIGf9YKVncATuP",
      "include_colab_link": true
    },
    "kernelspec": {
      "name": "python3",
      "display_name": "Python 3"
    },
    "language_info": {
      "name": "python"
    }
  },
  "cells": [
    {
      "cell_type": "markdown",
      "metadata": {
        "id": "view-in-github",
        "colab_type": "text"
      },
      "source": [
        "<a href=\"https://colab.research.google.com/github/KilHwanKim/practiceB/blob/main/1764_%EB%93%A3%EB%B3%B4%EC%9E%A1.ipynb\" target=\"_parent\"><img src=\"https://colab.research.google.com/assets/colab-badge.svg\" alt=\"Open In Colab\"/></a>"
      ]
    },
    {
      "cell_type": "code",
      "metadata": {
        "colab": {
          "base_uri": "https://localhost:8080/"
        },
        "id": "qh8RK1Og5dWJ",
        "outputId": "cb55342e-5a7d-4e99-a899-cb0bad262c06"
      },
      "source": [
        "n, m = map(int,input().split())\n",
        "A = set()\n",
        "B = set()\n",
        "for _ in range(n):\n",
        "    A.add(input())\n",
        "\n",
        "for _ in range(m):\n",
        "    B.add(input())\n",
        "result = sorted(list(A&B))\n",
        "print(len(result))\n",
        "for x in result:\n",
        "    print(x)"
      ],
      "execution_count": 3,
      "outputs": [
        {
          "output_type": "stream",
          "text": [
            "3 4\n",
            "ohhenrie\n",
            "charlie\n",
            "baesangwook\n",
            "obama\n",
            "baesangwook\n",
            "ohhenrie\n",
            "clinton\n",
            "2\n",
            "baesangwook\n",
            "ohhenrie\n"
          ],
          "name": "stdout"
        }
      ]
    },
    {
      "cell_type": "code",
      "metadata": {
        "id": "zteFBHuf868x"
      },
      "source": [
        ""
      ],
      "execution_count": null,
      "outputs": []
    }
  ]
}