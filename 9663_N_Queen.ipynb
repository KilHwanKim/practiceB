{
  "nbformat": 4,
  "nbformat_minor": 0,
  "metadata": {
    "colab": {
      "name": "9663_N-Queen.ipynb",
      "provenance": [],
      "authorship_tag": "ABX9TyOI1vR42bT0yDlkSCUzu7KK",
      "include_colab_link": true
    },
    "kernelspec": {
      "name": "python3",
      "display_name": "Python 3"
    },
    "language_info": {
      "name": "python"
    }
  },
  "cells": [
    {
      "cell_type": "markdown",
      "metadata": {
        "id": "view-in-github",
        "colab_type": "text"
      },
      "source": [
        "<a href=\"https://colab.research.google.com/github/KilHwanKim/practiceB/blob/main/9663_N_Queen.ipynb\" target=\"_parent\"><img src=\"https://colab.research.google.com/assets/colab-badge.svg\" alt=\"Open In Colab\"/></a>"
      ]
    },
    {
      "cell_type": "code",
      "metadata": {
        "colab": {
          "base_uri": "https://localhost:8080/"
        },
        "id": "ZyWlPMfcSozq",
        "outputId": "c609b31b-4ab8-4c21-c86a-570f0b72d324"
      },
      "source": [
        "import sys\n",
        "n = int(sys.stdin.readline())\n",
        "number_list = [0]*(n)\n",
        "c = 0\n",
        "def back(x):\n",
        "    global n,c,number_list\n",
        "    if x==n:\n",
        "        c+=1\n",
        "    else:\n",
        "        for i in range(n):\n",
        "            number_list[x]=i\n",
        "            if check(x):\n",
        "                back(x+1)\n",
        "def check(x):\n",
        "    for i in range(x):\n",
        "        if ( number_list[x] == number_list[i]) or  (abs(number_list[x]-number_list[i])==x-i):\n",
        "            return False\n",
        "    return True\n",
        "back(0)\n",
        "print(c)"
      ],
      "execution_count": 50,
      "outputs": [
        {
          "output_type": "stream",
          "text": [
            "2\n",
            "0\n"
          ],
          "name": "stdout"
        }
      ]
    },
    {
      "cell_type": "code",
      "metadata": {
        "id": "IaOB2uXKUBhH"
      },
      "source": [
        ""
      ],
      "execution_count": 43,
      "outputs": []
    },
    {
      "cell_type": "code",
      "metadata": {
        "id": "NzfzFh07Yxi8"
      },
      "source": [
        ""
      ],
      "execution_count": null,
      "outputs": []
    }
  ]
}