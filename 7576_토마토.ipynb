{
  "nbformat": 4,
  "nbformat_minor": 0,
  "metadata": {
    "colab": {
      "name": "7576_토마토.ipynb",
      "provenance": [],
      "collapsed_sections": [],
      "authorship_tag": "ABX9TyO2JHiettTH+UV2HXJqxr9S",
      "include_colab_link": true
    },
    "kernelspec": {
      "name": "python3",
      "display_name": "Python 3"
    },
    "language_info": {
      "name": "python"
    }
  },
  "cells": [
    {
      "cell_type": "markdown",
      "metadata": {
        "id": "view-in-github",
        "colab_type": "text"
      },
      "source": [
        "<a href=\"https://colab.research.google.com/github/KilHwanKim/practiceB/blob/main/7576_%ED%86%A0%EB%A7%88%ED%86%A0.ipynb\" target=\"_parent\"><img src=\"https://colab.research.google.com/assets/colab-badge.svg\" alt=\"Open In Colab\"/></a>"
      ]
    },
    {
      "cell_type": "code",
      "metadata": {
        "colab": {
          "base_uri": "https://localhost:8080/"
        },
        "id": "AqlCq6qgbEbV",
        "outputId": "294e04db-5905-41fe-a822-397f6231f5b4"
      },
      "source": [
        "w, h = map(int,input().split())\n",
        "tomato = []\n",
        "for _ in range(h):\n",
        "  tomato.append((list(map(int,input().split()))))\n",
        "dx = [1,-1,0,0]\n",
        "dy = [0,0,-1,1]"
      ],
      "execution_count": null,
      "outputs": [
        {
          "output_type": "stream",
          "text": [
            "6 4 \n",
            "1 -1 0 0 0 0 \n",
            "0 -1 0 0 0 0\n",
            "0 0 0 0 0 -1 0\n",
            "0 0 0 0 -1 1\n"
          ],
          "name": "stdout"
        }
      ]
    },
    {
      "cell_type": "code",
      "metadata": {
        "colab": {
          "base_uri": "https://localhost:8080/"
        },
        "id": "oh8p8naWvKo0",
        "outputId": "49b2171c-b14c-48fa-a4c3-7fba1f305f9b"
      },
      "source": [
        "w, h = map(int,input().split())\n",
        "tomato = []\n",
        "for _ in range(h):\n",
        "  tomato.append((list(map(int,input().split()))))\n",
        "dx = [1,-1,0,0]\n",
        "dy = [0,0,-1,1]\n",
        "C= -1\n",
        "Q = []\n",
        "visited = [[0]*w for i in range(h)]\n",
        "for x in range(w):\n",
        "    for y in range(h):\n",
        "        if tomato[y][x] ==1:      \n",
        "            Q.append([x,y])\n",
        "\n",
        "while Q:\n",
        "    temp_list = []\n",
        "    for val in Q:\n",
        "        x = val[0]\n",
        "        y = val[1]\n",
        "        \n",
        "        if visited[y][x]==0:\n",
        "            for ind in range(4):\n",
        "                nx = x+ dx[ind] \n",
        "                ny = y + dy[ind]\n",
        "                if nx<w and ny < h and nx>=0 and ny >= 0 and visited[ny][nx]==0 and tomato[ny][nx] == 0:\n",
        "                    tomato[ny][nx] =1\n",
        "                    temp_list.append([nx,ny])\n",
        "        visited[y][x] =1\n",
        "    Q = temp_list\n",
        "    C+=1\n",
        "for ind,x in enumerate(tomato):\n",
        "    if 0 in x:\n",
        "        print(-1)\n",
        "        break\n",
        "    if ind == len(tomato)-1:\n",
        "        print(C)\n",
        "\n",
        "\n"
      ],
      "execution_count": null,
      "outputs": [
        {
          "output_type": "stream",
          "text": [
            "8\n"
          ],
          "name": "stdout"
        }
      ]
    },
    {
      "cell_type": "code",
      "metadata": {
        "colab": {
          "base_uri": "https://localhost:8080/"
        },
        "id": "uhecex_gvSuB",
        "outputId": "b2f7f195-93ea-4716-a9c3-ff39d05cc1eb"
      },
      "source": [
        "print(tomato)\n",
        "print(visited)"
      ],
      "execution_count": null,
      "outputs": [
        {
          "output_type": "stream",
          "text": [
            "[[0, 1, 1, 1, 1, 1], [1, 1, 1, 1, 1, 1], [1, 1, 1, 1, 1, 1], [1, 1, 1, 1, 1, 1]]\n",
            "[[1, 1, 1, 1, 1, 1], [1, 1, 1, 1, 1, 1], [1, 1, 1, 1, 1, 1], [1, 1, 1, 1, 1, 1]]\n"
          ],
          "name": "stdout"
        }
      ]
    },
    {
      "cell_type": "code",
      "metadata": {
        "id": "BXc3Pge35hoq"
      },
      "source": [
        "word =\"\"\"6 4\n",
        "0 0 0 0 0 0\n",
        "0 0 0 0 0 0\n",
        "0 0 0 0 0 0\n",
        "0 0 0 0 0 1\"\"\"\n",
        "tomato = []\n",
        "w, h =map(int,word.split(\"\\n\")[0].split())\n",
        "for x in word.split(\"\\n\")[1::]:\n",
        "    tomato.append(list(map(int,x.split())))"
      ],
      "execution_count": null,
      "outputs": []
    },
    {
      "cell_type": "code",
      "metadata": {
        "id": "qj7gdxNXSHpo"
      },
      "source": [
        ""
      ],
      "execution_count": null,
      "outputs": []
    },
    {
      "cell_type": "code",
      "metadata": {
        "colab": {
          "base_uri": "https://localhost:8080/"
        },
        "id": "xi9geK1yxdp9",
        "outputId": "eb2e56b1-d1a4-47e5-eea8-668835dff72d"
      },
      "source": [
        "tomato"
      ],
      "execution_count": null,
      "outputs": [
        {
          "output_type": "execute_result",
          "data": {
            "text/plain": [
              "[[0, 0], [1, 0]]"
            ]
          },
          "metadata": {
            "tags": []
          },
          "execution_count": 30
        }
      ]
    },
    {
      "cell_type": "code",
      "metadata": {
        "id": "GFCHK8ic7Ddk"
      },
      "source": [
        ""
      ],
      "execution_count": null,
      "outputs": []
    },
    {
      "cell_type": "code",
      "metadata": {
        "id": "-TlfNH6F4y0j"
      },
      "source": [
        "tomato_list=A.copy()"
      ],
      "execution_count": null,
      "outputs": []
    },
    {
      "cell_type": "code",
      "metadata": {
        "id": "EhHVdBGt62Rn"
      },
      "source": [
        ""
      ],
      "execution_count": null,
      "outputs": []
    },
    {
      "cell_type": "code",
      "metadata": {
        "colab": {
          "base_uri": "https://localhost:8080/"
        },
        "id": "VY8FABlu48WS",
        "outputId": "57a064a1-5625-42eb-e8f6-eb8f783fa344"
      },
      "source": [
        "A= [[1,2,3,4],5]\n",
        "B = A\n",
        "B[0][0]=0\n",
        "print(\"A: \",A)\n",
        "print(\"B: \",B)"
      ],
      "execution_count": null,
      "outputs": [
        {
          "output_type": "stream",
          "text": [
            "A:  [[0, 2, 3, 4], 5]\n",
            "B:  [[0, 2, 3, 4], 5]\n"
          ],
          "name": "stdout"
        }
      ]
    },
    {
      "cell_type": "code",
      "metadata": {
        "colab": {
          "base_uri": "https://localhost:8080/"
        },
        "id": "ry3DAo7J5RKS",
        "outputId": "50a6cabb-5d74-4a2c-dbdb-abd85e129e61"
      },
      "source": [
        "A= [[1,2,3,4],5]\n",
        "B = A.copy()\n",
        "B[0][0]=0\n",
        "print(\"A: \",A)\n",
        "print(\"B: \",B)"
      ],
      "execution_count": null,
      "outputs": [
        {
          "output_type": "stream",
          "text": [
            "A:  [[0, 2, 3, 4], 5]\n",
            "B:  [[0, 2, 3, 4], 5]\n"
          ],
          "name": "stdout"
        }
      ]
    },
    {
      "cell_type": "code",
      "metadata": {
        "colab": {
          "base_uri": "https://localhost:8080/"
        },
        "id": "wVvxuCJpULHl",
        "outputId": "ddb0e39b-68fc-4537-fcac-2f35db63f5c4"
      },
      "source": [
        "import copy\n",
        "A= [[1,2,3,4],5]\n",
        "B = copy.deepcopy(A)\n",
        "B[0][0]=0\n",
        "print(\"A: \",A)\n",
        "print(\"B: \",B)"
      ],
      "execution_count": null,
      "outputs": [
        {
          "output_type": "stream",
          "text": [
            "A:  [[1, 2, 3, 4], 5]\n",
            "B:  [[0, 2, 3, 4], 5]\n"
          ],
          "name": "stdout"
        }
      ]
    },
    {
      "cell_type": "code",
      "metadata": {
        "id": "mLrb8I7D5XWA"
      },
      "source": [
        "tomato_list[2] = [0,0,0,0,-1,0]"
      ],
      "execution_count": null,
      "outputs": []
    },
    {
      "cell_type": "code",
      "metadata": {
        "id": "E0C2lEMp6104"
      },
      "source": [
        ""
      ],
      "execution_count": null,
      "outputs": []
    }
  ]
}