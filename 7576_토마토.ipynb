{
  "nbformat": 4,
  "nbformat_minor": 0,
  "metadata": {
    "colab": {
      "name": "7576_토마토.ipynb",
      "provenance": [],
      "collapsed_sections": [],
      "authorship_tag": "ABX9TyNlJa/UKGQXtFu/1qDevN2Y",
      "include_colab_link": true
    },
    "kernelspec": {
      "name": "python3",
      "display_name": "Python 3"
    },
    "language_info": {
      "name": "python"
    }
  },
  "cells": [
    {
      "cell_type": "markdown",
      "metadata": {
        "id": "view-in-github",
        "colab_type": "text"
      },
      "source": [
        "<a href=\"https://colab.research.google.com/github/KilHwanKim/practiceB/blob/main/7576_%ED%86%A0%EB%A7%88%ED%86%A0.ipynb\" target=\"_parent\"><img src=\"https://colab.research.google.com/assets/colab-badge.svg\" alt=\"Open In Colab\"/></a>"
      ]
    },
    {
      "cell_type": "code",
      "metadata": {
        "colab": {
          "base_uri": "https://localhost:8080/"
        },
        "id": "oh8p8naWvKo0",
        "outputId": "49b2171c-b14c-48fa-a4c3-7fba1f305f9b"
      },
      "source": [
        "w, h = map(int,input().split())\n",
        "tomato = []\n",
        "for _ in range(h):\n",
        "  tomato.append((list(map(int,input().split()))))\n",
        "dx = [1,-1,0,0]\n",
        "dy = [0,0,-1,1]\n",
        "C= -1\n",
        "Q = []\n",
        "visited = [[0]*w for i in range(h)]\n",
        "for x in range(w):\n",
        "    for y in range(h):\n",
        "        if tomato[y][x] ==1:      \n",
        "            Q.append([x,y])\n",
        "\n",
        "while Q:\n",
        "    temp_list = []\n",
        "    for val in Q:\n",
        "        x = val[0]\n",
        "        y = val[1]\n",
        "        \n",
        "        if visited[y][x]==0:\n",
        "            for ind in range(4):\n",
        "                nx = x+ dx[ind] \n",
        "                ny = y + dy[ind]\n",
        "                if nx<w and ny < h and nx>=0 and ny >= 0 and visited[ny][nx]==0 and tomato[ny][nx] == 0:\n",
        "                    tomato[ny][nx] =1\n",
        "                    temp_list.append([nx,ny])\n",
        "        visited[y][x] =1\n",
        "    Q = temp_list\n",
        "    C+=1\n",
        "for ind,x in enumerate(tomato):\n",
        "    if 0 in x:\n",
        "        print(-1)\n",
        "        break\n",
        "    if ind == len(tomato)-1:\n",
        "        print(C)\n",
        "\n",
        "\n"
      ],
      "execution_count": null,
      "outputs": [
        {
          "output_type": "stream",
          "text": [
            "8\n"
          ],
          "name": "stdout"
        }
      ]
    }
  ]
}