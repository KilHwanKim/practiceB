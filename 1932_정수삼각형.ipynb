{
  "nbformat": 4,
  "nbformat_minor": 0,
  "metadata": {
    "colab": {
      "name": "1932_정수삼각형.ipynb",
      "provenance": [],
      "authorship_tag": "ABX9TyO+hWMMtfMV9Tgjqf+9/FFQ",
      "include_colab_link": true
    },
    "kernelspec": {
      "name": "python3",
      "display_name": "Python 3"
    },
    "language_info": {
      "name": "python"
    }
  },
  "cells": [
    {
      "cell_type": "markdown",
      "metadata": {
        "id": "view-in-github",
        "colab_type": "text"
      },
      "source": [
        "<a href=\"https://colab.research.google.com/github/KilHwanKim/practiceB/blob/main/1932_%EC%A0%95%EC%88%98%EC%82%BC%EA%B0%81%ED%98%95.ipynb\" target=\"_parent\"><img src=\"https://colab.research.google.com/assets/colab-badge.svg\" alt=\"Open In Colab\"/></a>"
      ]
    },
    {
      "cell_type": "code",
      "metadata": {
        "colab": {
          "base_uri": "https://localhost:8080/"
        },
        "id": "L-aALUMRr2xm",
        "outputId": "15157669-e4ac-4f0c-a844-55d1e609b716"
      },
      "source": [
        "import sys\n",
        "## input = sys.stdin.readline\n",
        "n = int(input())\n",
        "tri = []\n",
        "for i in range(n):\n",
        "    tri.append(list(map(int,input().split())))\n",
        "for ind in range(1,n):\n",
        "    for x in range(ind+1):\n",
        "        if x ==0 :\n",
        "            tri[ind][x] = tri[ind-1][x]+tri[ind][x]\n",
        "        elif x == ind:\n",
        "            tri[ind][x] = tri[ind-1][x-1]+tri[ind][x]\n",
        "        else:\n",
        "            tri[ind][x] = max([tri[ind-1][x-1],tri[ind-1][x]])+tri[ind][x]\n",
        "            \n",
        "        \n",
        "print(max(tri[-1]))\n"
      ],
      "execution_count": 1,
      "outputs": [
        {
          "output_type": "stream",
          "text": [
            "5\n",
            "7\n",
            "3 8\n",
            "8 1 0\n",
            "2 7 4 4\n",
            "4 5 2 6 5\n",
            "30\n"
          ],
          "name": "stdout"
        }
      ]
    },
    {
      "cell_type": "code",
      "metadata": {
        "colab": {
          "base_uri": "https://localhost:8080/"
        },
        "id": "hJaOChknsqL_",
        "outputId": "68d766e8-f1bf-4388-ae21-172c2af52403"
      },
      "source": [
        ""
      ],
      "execution_count": 13,
      "outputs": [
        {
          "output_type": "stream",
          "text": [
            "93\n"
          ],
          "name": "stdout"
        }
      ]
    },
    {
      "cell_type": "code",
      "metadata": {
        "colab": {
          "base_uri": "https://localhost:8080/"
        },
        "id": "lpkLT8LZs4Qh",
        "outputId": "4780dd55-dcb2-4fa4-c2d4-9ee43a9a423f"
      },
      "source": [
        "print(tri)"
      ],
      "execution_count": 12,
      "outputs": [
        {
          "output_type": "stream",
          "text": [
            "[[7], [10, 15], [18, 16, 15], [20, 25, 20, 19], [24, 30, 27, 26, 24]]\n"
          ],
          "name": "stdout"
        }
      ]
    },
    {
      "cell_type": "code",
      "metadata": {
        "id": "mKDGitwRuXtF"
      },
      "source": [
        ""
      ],
      "execution_count": null,
      "outputs": []
    }
  ]
}