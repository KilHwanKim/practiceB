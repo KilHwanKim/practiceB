{
  "nbformat": 4,
  "nbformat_minor": 0,
  "metadata": {
    "colab": {
      "name": "1541_잃어버린 괄호.ipynb",
      "provenance": [],
      "authorship_tag": "ABX9TyMlCDxOvjhy4HgTAVtmgElN",
      "include_colab_link": true
    },
    "kernelspec": {
      "name": "python3",
      "display_name": "Python 3"
    },
    "language_info": {
      "name": "python"
    }
  },
  "cells": [
    {
      "cell_type": "markdown",
      "metadata": {
        "id": "view-in-github",
        "colab_type": "text"
      },
      "source": [
        "<a href=\"https://colab.research.google.com/github/KilHwanKim/practiceB/blob/main/1541_%EC%9E%83%EC%96%B4%EB%B2%84%EB%A6%B0_%EA%B4%84%ED%98%B8.ipynb\" target=\"_parent\"><img src=\"https://colab.research.google.com/assets/colab-badge.svg\" alt=\"Open In Colab\"/></a>"
      ]
    },
    {
      "cell_type": "code",
      "metadata": {
        "colab": {
          "base_uri": "https://localhost:8080/"
        },
        "id": "-0XOW_J3wARg",
        "outputId": "54105c45-46df-4961-ef28-c5d195ff4cc8"
      },
      "source": [
        "### 마이나스 있으면 다 빼면 될듯?\n",
        "\n",
        "A = input().split(\"-\")\n",
        "s = sum(list(map(int,A[0].split(\"+\"))))\n",
        "for val in A[1:]:\n",
        "    s-=sum(list(map(int,val.split(\"+\"))))\n",
        "print(s)"
      ],
      "execution_count": 8,
      "outputs": [
        {
          "output_type": "stream",
          "text": [
            "55-50+40\n",
            "-35\n"
          ],
          "name": "stdout"
        }
      ]
    }
  ]
}