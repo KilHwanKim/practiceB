{
  "nbformat": 4,
  "nbformat_minor": 0,
  "metadata": {
    "colab": {
      "name": "11866_요세푸스.ipynb",
      "provenance": [],
      "authorship_tag": "ABX9TyNeJdWPMCXCc8rTGQVT5Oi7",
      "include_colab_link": true
    },
    "kernelspec": {
      "name": "python3",
      "display_name": "Python 3"
    },
    "language_info": {
      "name": "python"
    }
  },
  "cells": [
    {
      "cell_type": "markdown",
      "metadata": {
        "id": "view-in-github",
        "colab_type": "text"
      },
      "source": [
        "<a href=\"https://colab.research.google.com/github/KilHwanKim/practiceB/blob/main/11866_%EC%9A%94%EC%84%B8%ED%91%B8%EC%8A%A4.ipynb\" target=\"_parent\"><img src=\"https://colab.research.google.com/assets/colab-badge.svg\" alt=\"Open In Colab\"/></a>"
      ]
    },
    {
      "cell_type": "code",
      "metadata": {
        "colab": {
          "base_uri": "https://localhost:8080/"
        },
        "id": "2EavQ1OCkOsn",
        "outputId": "025b6c40-2915-4a77-b988-b8af0eb9682e"
      },
      "source": [
        "n,k = map(int,input().split())\n",
        "L = list(range(1,n+1))\n",
        "ind = k-1\n",
        "answer=\"<\"\n",
        "while len(L)>1:\n",
        "    answer+=str(L.pop(ind)) +\", \"\n",
        "    ind =(ind+k-1)%len(L)\n",
        "answer+=str(L.pop())+\">\"\n",
        "print(answer)"
      ],
      "execution_count": null,
      "outputs": [
        {
          "output_type": "stream",
          "text": [
            "5 1\n",
            "<1, 2, 3, 4, 5>\n"
          ],
          "name": "stdout"
        }
      ]
    },
    {
      "cell_type": "code",
      "metadata": {
        "colab": {
          "base_uri": "https://localhost:8080/",
          "height": 36
        },
        "id": "1YV41Xsdqejp",
        "outputId": "373fda27-b4e0-4c4d-c616-d47208f78471"
      },
      "source": [
        ""
      ],
      "execution_count": null,
      "outputs": [
        {
          "output_type": "execute_result",
          "data": {
            "application/vnd.google.colaboratory.intrinsic+json": {
              "type": "string"
            },
            "text/plain": [
              "'<3, 6, 2, 7, 5, 1, 4>'"
            ]
          },
          "metadata": {
            "tags": []
          },
          "execution_count": 9
        }
      ]
    },
    {
      "cell_type": "code",
      "metadata": {
        "id": "uJFlXUKurO9K"
      },
      "source": [
        ""
      ],
      "execution_count": null,
      "outputs": []
    }
  ]
}