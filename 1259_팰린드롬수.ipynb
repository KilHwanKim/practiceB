{
  "nbformat": 4,
  "nbformat_minor": 0,
  "metadata": {
    "colab": {
      "name": "1259_팰린드롬수.ipynb",
      "provenance": [],
      "authorship_tag": "ABX9TyPB7+HDGlzYHvuPxMzNWFkd",
      "include_colab_link": true
    },
    "kernelspec": {
      "name": "python3",
      "display_name": "Python 3"
    },
    "language_info": {
      "name": "python"
    }
  },
  "cells": [
    {
      "cell_type": "markdown",
      "metadata": {
        "id": "view-in-github",
        "colab_type": "text"
      },
      "source": [
        "<a href=\"https://colab.research.google.com/github/KilHwanKim/practiceB/blob/main/1259_%ED%8C%B0%EB%A6%B0%EB%93%9C%EB%A1%AC%EC%88%98.ipynb\" target=\"_parent\"><img src=\"https://colab.research.google.com/assets/colab-badge.svg\" alt=\"Open In Colab\"/></a>"
      ]
    },
    {
      "cell_type": "code",
      "metadata": {
        "colab": {
          "base_uri": "https://localhost:8080/"
        },
        "id": "c-mQOykz-1a6",
        "outputId": "cfb9ac45-7367-47bd-b25d-7e824bdedd42"
      },
      "source": [
        "def isPel(n):\n",
        "    word = str(n)\n",
        "    s = 0\n",
        "    e = len(word)-1\n",
        "    while s <=e:\n",
        "        if word[s] != word[e]:\n",
        "            return \"no\"\n",
        "        s+=1\n",
        "        e-=1\n",
        "    return \"yes\"\n",
        "\n",
        "while True :\n",
        "    n=int(input())\n",
        "    if n ==0:\n",
        "        break\n",
        "    else:\n",
        "        print(isPel(n))\n"
      ],
      "execution_count": 5,
      "outputs": [
        {
          "output_type": "stream",
          "text": [
            "121\n",
            "YES\n",
            "1231\n",
            "NO\n",
            "12421\n",
            "YES\n",
            "0\n"
          ],
          "name": "stdout"
        }
      ]
    },
    {
      "cell_type": "code",
      "metadata": {
        "colab": {
          "base_uri": "https://localhost:8080/"
        },
        "id": "vLgPNsbs_iop",
        "outputId": "703fb440-5927-4160-f45b-956c7b1ce094"
      },
      "source": [
        "print(isPel(9999))"
      ],
      "execution_count": 9,
      "outputs": [
        {
          "output_type": "stream",
          "text": [
            "YES\n"
          ],
          "name": "stdout"
        }
      ]
    },
    {
      "cell_type": "code",
      "metadata": {
        "id": "hsYQSsXc_kge"
      },
      "source": [
        ""
      ],
      "execution_count": null,
      "outputs": []
    }
  ]
}