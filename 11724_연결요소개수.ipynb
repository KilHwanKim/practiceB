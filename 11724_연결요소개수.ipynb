{
  "nbformat": 4,
  "nbformat_minor": 0,
  "metadata": {
    "colab": {
      "name": "11724_연결요소개수.ipynb",
      "provenance": [],
      "collapsed_sections": [],
      "authorship_tag": "ABX9TyOcQBgtUsqqwabJfGVhrf+P",
      "include_colab_link": true
    },
    "kernelspec": {
      "name": "python3",
      "display_name": "Python 3"
    },
    "language_info": {
      "name": "python"
    }
  },
  "cells": [
    {
      "cell_type": "markdown",
      "metadata": {
        "id": "view-in-github",
        "colab_type": "text"
      },
      "source": [
        "<a href=\"https://colab.research.google.com/github/KilHwanKim/practiceB/blob/main/11724_%EC%97%B0%EA%B2%B0%EC%9A%94%EC%86%8C%EA%B0%9C%EC%88%98.ipynb\" target=\"_parent\"><img src=\"https://colab.research.google.com/assets/colab-badge.svg\" alt=\"Open In Colab\"/></a>"
      ]
    },
    {
      "cell_type": "code",
      "metadata": {
        "colab": {
          "base_uri": "https://localhost:8080/"
        },
        "id": "e75zaUHG1orK",
        "outputId": "0de7ca68-8d7d-4935-e90f-90eacf5380ce"
      },
      "source": [
        "import sys\n",
        "from queue import Queue\n",
        "n ,ca = map(int,sys.stdin.readline().split())\n",
        "link_list = [[] for i in range(n+1)]\n",
        "visited = [0]*(n+1)\n",
        "for ind in range(ca):\n",
        "    a,b = map(int,sys.stdin.readline().split())\n",
        "    link_list[a].append(b)\n",
        "    link_list[b].append(a)\n",
        "c=0\n",
        "for i in range(1,n+1):\n",
        "    if visited[i]==0:\n",
        "        q = Queue()\n",
        "        c+=1\n",
        "        q.put(i)\n",
        "        while q.qsize()>0:\n",
        "            temp = q.get()\n",
        "            for x in link_list[temp]:\n",
        "                if visited[x] ==0:\n",
        "                    q.put(x)\n",
        "                    visited[x] =1\n",
        "print(c)\n",
        "\n",
        "\n",
        "\n"
      ],
      "execution_count": null,
      "outputs": [
        {
          "output_type": "stream",
          "text": [
            "6 5\n",
            "1 2\n",
            "2 5\n",
            "5 1\n",
            "3 5\n",
            "4 6\n"
          ],
          "name": "stdout"
        }
      ]
    },
    {
      "cell_type": "code",
      "metadata": {
        "colab": {
          "base_uri": "https://localhost:8080/"
        },
        "id": "WW23Szwq4Sqh",
        "outputId": "01926d88-844d-4c6f-8ff5-e2ab60660f0a"
      },
      "source": [
        "print(c)\n"
      ],
      "execution_count": null,
      "outputs": [
        {
          "output_type": "stream",
          "text": [
            "2\n"
          ],
          "name": "stdout"
        }
      ]
    },
    {
      "cell_type": "code",
      "metadata": {
        "id": "AopbnkPm4krH"
      },
      "source": [
        ""
      ],
      "execution_count": null,
      "outputs": []
    }
  ]
}